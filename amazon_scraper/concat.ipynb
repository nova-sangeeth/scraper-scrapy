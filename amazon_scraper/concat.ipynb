{
 "cells": [
  {
   "cell_type": "code",
   "execution_count": 26,
   "metadata": {},
   "outputs": [],
   "source": [
    "import pandas as pd"
   ]
  },
  {
   "cell_type": "code",
   "execution_count": 26,
   "metadata": {},
   "outputs": [],
   "source": [
    "# reading csv files\n",
    "df = pd.read_csv('scraped_reviews/Contigo-Handled-AUTOSEAL-Vacuum-Insulated-Easy-Clean_reviews.csv')\n",
    "# df.drop_duplicates(subset='author_profile_url', keep=\"last\")\n",
    "df = df.drop_duplicates('author_profile_url', keep='last')\n",
    "df"
   ]
  },
  {
   "cell_type": "code",
   "execution_count": 26,
   "metadata": {},
   "outputs": [],
   "source": [
    "df.to_csv('Contigo-Handled-AUTOSEAL-Vacuum-Insulated-Easy-Clean_reviews_final.csv', index=False)"
   ]
  },
  {
   "cell_type": "code",
   "execution_count": null,
   "metadata": {},
   "outputs": [],
   "source": []
  },
  {
   "cell_type": "code",
   "execution_count": 3,
   "metadata": {},
   "outputs": [
    {
     "data": {
      "text/html": [
       "<div>\n",
       "<style scoped>\n",
       "    .dataframe tbody tr th:only-of-type {\n",
       "        vertical-align: middle;\n",
       "    }\n",
       "\n",
       "    .dataframe tbody tr th {\n",
       "        vertical-align: top;\n",
       "    }\n",
       "\n",
       "    .dataframe thead th {\n",
       "        text-align: right;\n",
       "    }\n",
       "</style>\n",
       "<table border=\"1\" class=\"dataframe\">\n",
       "  <thead>\n",
       "    <tr style=\"text-align: right;\">\n",
       "      <th></th>\n",
       "      <th>helpful_votes</th>\n",
       "      <th>page_url</th>\n",
       "      <th>total_review</th>\n",
       "      <th>visibility_status</th>\n",
       "    </tr>\n",
       "  </thead>\n",
       "  <tbody>\n",
       "    <tr>\n",
       "      <th>0</th>\n",
       "      <td>1,244</td>\n",
       "      <td>https://www.amazon.com/hz/gamification/api/con...</td>\n",
       "      <td>44</td>\n",
       "      <td>Public</td>\n",
       "    </tr>\n",
       "    <tr>\n",
       "      <th>1</th>\n",
       "      <td>3,057</td>\n",
       "      <td>https://www.amazon.com/hz/gamification/api/con...</td>\n",
       "      <td>1</td>\n",
       "      <td>Public</td>\n",
       "    </tr>\n",
       "  </tbody>\n",
       "</table>\n",
       "</div>"
      ],
      "text/plain": [
       "  helpful_votes                                           page_url  \\\n",
       "0         1,244  https://www.amazon.com/hz/gamification/api/con...   \n",
       "1         3,057  https://www.amazon.com/hz/gamification/api/con...   \n",
       "\n",
       "  total_review visibility_status  \n",
       "0           44            Public  \n",
       "1            1            Public  "
      ]
     },
     "execution_count": 3,
     "metadata": {},
     "output_type": "execute_result"
    }
   ],
   "source": [
    "data2 = pd.read_csv('Contigo-Handled-AUTOSEAL-Vacuum-Insulated-Easy-Clean_PROFILE.csv')\n",
    "data2[:2]"
   ]
  },
  {
   "cell_type": "code",
   "execution_count": null,
   "metadata": {},
   "outputs": [],
   "source": [
    "# using merge function by setting how='left'\n",
    "output2 = pd.merge(data1, data2, \n",
    "                   on='pageURL', \n",
    "                   how='left')\n",
    "  \n",
    "# displaying result\n",
    "print(output2)"
   ]
  }
 ],
 "metadata": {
  "kernelspec": {
   "display_name": "Python 3 (ipykernel)",
   "language": "python",
   "name": "python3"
  },
  "language_info": {
   "codemirror_mode": {
    "name": "ipython",
    "version": 3
   },
   "file_extension": ".py",
   "mimetype": "text/x-python",
   "name": "python",
   "nbconvert_exporter": "python",
   "pygments_lexer": "ipython3",
   "version": "3.8.10"
  }
 },
 "nbformat": 4,
 "nbformat_minor": 4
}
