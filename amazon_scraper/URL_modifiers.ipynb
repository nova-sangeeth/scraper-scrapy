{
 "cells": [
  {
   "cell_type": "code",
   "execution_count": 9,
   "id": "4ab5ea4f-c2ff-42ec-8108-3b323e011941",
   "metadata": {},
   "outputs": [],
   "source": [
    "import pandas as pd"
   ]
  },
  {
   "cell_type": "code",
   "execution_count": 184,
   "id": "fb92d850-6265-4581-b16f-a07fe541224b",
   "metadata": {},
   "outputs": [],
   "source": [
    "file_path = \"scraped_reviews/batch-2/Under-Armour-Charged-Assert-Running-REVIEW.csv\"\n",
    "\n",
    "file_name = \"Under-Armour-Charged-Assert-Running\"\n",
    "ranking_output_file_name = f\"{file_name}-RANKING\"\n",
    "profile_output_file_name = f\"{file_name}-PROFILE\"\n",
    "extension = \"txt\""
   ]
  },
  {
   "cell_type": "code",
   "execution_count": 185,
   "id": "4c5aa34f-89a8-4eee-b88c-275bfec1294b",
   "metadata": {},
   "outputs": [
    {
     "data": {
      "text/html": [
       "<div>\n",
       "<style scoped>\n",
       "    .dataframe tbody tr th:only-of-type {\n",
       "        vertical-align: middle;\n",
       "    }\n",
       "\n",
       "    .dataframe tbody tr th {\n",
       "        vertical-align: top;\n",
       "    }\n",
       "\n",
       "    .dataframe thead th {\n",
       "        text-align: right;\n",
       "    }\n",
       "</style>\n",
       "<table border=\"1\" class=\"dataframe\">\n",
       "  <thead>\n",
       "    <tr style=\"text-align: right;\">\n",
       "      <th></th>\n",
       "      <th>author</th>\n",
       "      <th>author_profile_url</th>\n",
       "      <th>date_of_review</th>\n",
       "      <th>image_num</th>\n",
       "      <th>num_of_comments</th>\n",
       "      <th>pageURL</th>\n",
       "      <th>rating</th>\n",
       "      <th>review_content</th>\n",
       "      <th>title</th>\n",
       "      <th>verified</th>\n",
       "      <th>votes_helpful</th>\n",
       "    </tr>\n",
       "  </thead>\n",
       "  <tbody>\n",
       "    <tr>\n",
       "      <th>0</th>\n",
       "      <td>M. Nelson</td>\n",
       "      <td>amzn1.account.AHJ6IAAQIWS6V4IGM6URVRQTJ3KA</td>\n",
       "      <td>Reviewed in the United States on October 21, 2019</td>\n",
       "      <td>0</td>\n",
       "      <td>NaN</td>\n",
       "      <td>https://www.amazon.com/Under-Armour-Charged-As...</td>\n",
       "      <td>5.0 out of 5 stars</td>\n",
       "      <td>I discarded my other shoes, I just felt that I...</td>\n",
       "      <td>This manufacturer does not endorse that one fo...</td>\n",
       "      <td>Size: 12.5Color: Black (003)/BlackVerified Pur...</td>\n",
       "      <td>794 people found this helpful</td>\n",
       "    </tr>\n",
       "    <tr>\n",
       "      <th>1</th>\n",
       "      <td>Dellah T.</td>\n",
       "      <td>amzn1.account.AFL2WEYUMYM7CISIAOAHAGHF5MFA</td>\n",
       "      <td>Reviewed in the United States on July 25, 2019</td>\n",
       "      <td>0</td>\n",
       "      <td>NaN</td>\n",
       "      <td>https://www.amazon.com/Under-Armour-Charged-As...</td>\n",
       "      <td>5.0 out of 5 stars</td>\n",
       "      <td>Shoes fit great, look good and feel like they ...</td>\n",
       "      <td>Fit Great and They're Not Made By Nike</td>\n",
       "      <td>Size: 10Color: Academy Blue (401)/WhiteVerifie...</td>\n",
       "      <td>514 people found this helpful</td>\n",
       "    </tr>\n",
       "  </tbody>\n",
       "</table>\n",
       "</div>"
      ],
      "text/plain": [
       "      author                          author_profile_url  \\\n",
       "0  M. Nelson  amzn1.account.AHJ6IAAQIWS6V4IGM6URVRQTJ3KA   \n",
       "1  Dellah T.  amzn1.account.AFL2WEYUMYM7CISIAOAHAGHF5MFA   \n",
       "\n",
       "                                      date_of_review  image_num  \\\n",
       "0  Reviewed in the United States on October 21, 2019          0   \n",
       "1     Reviewed in the United States on July 25, 2019          0   \n",
       "\n",
       "   num_of_comments                                            pageURL  \\\n",
       "0              NaN  https://www.amazon.com/Under-Armour-Charged-As...   \n",
       "1              NaN  https://www.amazon.com/Under-Armour-Charged-As...   \n",
       "\n",
       "               rating                                     review_content  \\\n",
       "0  5.0 out of 5 stars  I discarded my other shoes, I just felt that I...   \n",
       "1  5.0 out of 5 stars  Shoes fit great, look good and feel like they ...   \n",
       "\n",
       "                                               title  \\\n",
       "0  This manufacturer does not endorse that one fo...   \n",
       "1             Fit Great and They're Not Made By Nike   \n",
       "\n",
       "                                            verified  \\\n",
       "0  Size: 12.5Color: Black (003)/BlackVerified Pur...   \n",
       "1  Size: 10Color: Academy Blue (401)/WhiteVerifie...   \n",
       "\n",
       "                   votes_helpful  \n",
       "0  794 people found this helpful  \n",
       "1  514 people found this helpful  "
      ]
     },
     "execution_count": 185,
     "metadata": {},
     "output_type": "execute_result"
    }
   ],
   "source": [
    "#input files \n",
    "df = pd.read_csv(file_path)\n",
    "df[:2]"
   ]
  },
  {
   "cell_type": "code",
   "execution_count": 186,
   "id": "e13667d1-3885-440d-895a-d0df00b23863",
   "metadata": {},
   "outputs": [
    {
     "data": {
      "text/plain": [
       "0    https://www.amazon.com/profilewidget/bio/amzn1...\n",
       "1    https://www.amazon.com/profilewidget/bio/amzn1...\n",
       "Name: ranking_url, dtype: object"
      ]
     },
     "execution_count": 186,
     "metadata": {},
     "output_type": "execute_result"
    }
   ],
   "source": [
    "df['ranking_url'] = 'https://www.amazon.com/profilewidget/bio/' + df['author_profile_url'].astype(str) + \"?view=visitor\"\n",
    "ranking_url_output = df['ranking_url']\n",
    "ranking_url_output[:2]"
   ]
  },
  {
   "cell_type": "code",
   "execution_count": 187,
   "id": "4cb72f23-b6b0-42e1-ae0b-129a610182b8",
   "metadata": {},
   "outputs": [
    {
     "data": {
      "text/plain": [
       "0    https://www.amazon.com/hz/gamification/api/con...\n",
       "1    https://www.amazon.com/hz/gamification/api/con...\n",
       "Name: profile_url, dtype: object"
      ]
     },
     "execution_count": 187,
     "metadata": {},
     "output_type": "execute_result"
    }
   ],
   "source": [
    "df['profile_url'] = 'https://www.amazon.com/hz/gamification/api/contributor/dashboard/' + df['author_profile_url'].astype(str)\n",
    "profile_url_output = df['profile_url']\n",
    "profile_url_output[:2]"
   ]
  },
  {
   "cell_type": "code",
   "execution_count": 188,
   "id": "dc1c2d11-60e8-4405-832f-d72cd811a7b3",
   "metadata": {},
   "outputs": [],
   "source": [
    "f_name = f\"{ranking_output_file_name}.{extension}\"\n",
    "ranking_url_output.to_csv(f\"{f_name}\", header=None, index=None, sep=' ', mode='a')"
   ]
  },
  {
   "cell_type": "code",
   "execution_count": 189,
   "id": "2825999f-601b-41d7-a159-440596b268f8",
   "metadata": {},
   "outputs": [],
   "source": [
    "f_name = f\"{profile_output_file_name}.{extension}\"\n",
    "profile_url_output.to_csv(f\"{f_name}\", header=None, index=None, sep=' ', mode='a')"
   ]
  }
 ],
 "metadata": {
  "kernelspec": {
   "display_name": "Python 3 (ipykernel)",
   "language": "python",
   "name": "python3"
  },
  "language_info": {
   "codemirror_mode": {
    "name": "ipython",
    "version": 3
   },
   "file_extension": ".py",
   "mimetype": "text/x-python",
   "name": "python",
   "nbconvert_exporter": "python",
   "pygments_lexer": "ipython3",
   "version": "3.9.5"
  }
 },
 "nbformat": 4,
 "nbformat_minor": 5
}
